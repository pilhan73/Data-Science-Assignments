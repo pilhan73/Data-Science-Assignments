{
 "cells": [
  {
   "cell_type": "code",
   "execution_count": 9,
   "metadata": {},
   "outputs": [],
   "source": [
    "import pandas as pd     \n",
    "import numpy as np\n",
    "from bs4 import BeautifulSoup\n",
    "import re\n",
    "import nltk\n",
    "# nltk.download()\n",
    "from nltk.corpus import stopwords # Import the stop word list\n",
    "from sklearn.model_selection import train_test_split\n",
    "from sklearn.ensemble import RandomForestClassifier\n",
    "from sklearn.model_selection import train_test_split\n",
    "from sklearn.ensemble import RandomForestClassifier\n",
    "from sklearn.metrics import accuracy_score, f1_score, precision_score\n",
    "from sklearn.feature_extraction.text import TfidfVectorizer\n",
    "from nltk.corpus import stopwords\n",
    "from nltk.tokenize import word_tokenize\n",
    "from nltk.stem.porter import *  \n",
    "from nltk.stem.wordnet import WordNetLemmatizer\n",
    "\n",
    "from sklearn.feature_extraction.text import CountVectorizer\n",
    "stemmer = PorterStemmer() \n",
    "lemmatizer = WordNetLemmatizer()\n",
    "\n",
    "# Note that the following resrouces were refrenced: \n",
    "# TA \n",
    "# https://www.kaggle.com/code/blurredmachine/bag-of-words-meets-random-forest/notebook\n",
    "\n",
    "df = pd.read_csv(\"musical1.tsv\", \n",
    "                              header=0, \n",
    "                              delimiter=\"\\t\", \n",
    "                              quoting=3)\n",
    "\n",
    "sentences = list(df[\"Review\"])\n",
    "corpus = []\n",
    "for sentence in sentences:\n",
    "    #Converting to Lowercase \n",
    "    \n",
    "    # sentence = re.sub(\"[^a-zA-Z]\", \" \", sentence)\n",
    "    sentence = sentence.lower()\n",
    "\n",
    "    #Tokenization \n",
    "    words = word_tokenize(sentence)\n",
    "    # print(words)\n",
    "    #Lemmatization\n",
    "    words=[stemmer.stem(word) for word in words if word not in set(stopwords.words('english'))]\n",
    "    words = [lemmatizer.lemmatize(word.lower()) for word in words]\n",
    "    sentence = ' '.join(words)\n",
    "    # print(sentence)\n",
    "    corpus.append(sentence)\n",
    "\n",
    "# corpus"
   ]
  },
  {
   "cell_type": "code",
   "execution_count": 8,
   "metadata": {},
   "outputs": [
    {
     "name": "stdout",
     "output_type": "stream",
     "text": [
      "For the value 1 /n\n",
      "Accuracy:  0.65\n",
      "F1 Score:  0.7586206896551725\n",
      "Percision:  0.6111111111111112\n"
     ]
    }
   ],
   "source": [
    "\n",
    "vectorizer = CountVectorizer(max_features=1500, min_df=5, max_df=0.7, stop_words=stopwords.words('english'))\n",
    "X = vectorizer.fit_transform(corpus).toarray()\n",
    "X_train, X_cv, Y_train, Y_cv = train_test_split(X, df['Score'], test_size = 0.2, random_state=5)\n",
    "\n",
    "forest = RandomForestClassifier(max_depth=2, random_state=0)\n",
    "forest = forest.fit(X_train, Y_train)\n",
    "predictions = forest.predict(X_cv) \n",
    "\n",
    "print(\"Accuracy: \", accuracy_score(Y_cv, predictions))\n",
    "print(\"F1 Score: \", f1_score(Y_cv, predictions))\n",
    "print(\"Percision: \", precision_score(Y_cv, predictions))\n"
   ]
  }
 ],
 "metadata": {
  "interpreter": {
   "hash": "8f9d42eef91f9072c217f743e9a462febf75e26b82d0db19535ee00da3754906"
  },
  "kernelspec": {
   "display_name": "Python 3.9.7 ('base')",
   "language": "python",
   "name": "python3"
  },
  "language_info": {
   "codemirror_mode": {
    "name": "ipython",
    "version": 3
   },
   "file_extension": ".py",
   "mimetype": "text/x-python",
   "name": "python",
   "nbconvert_exporter": "python",
   "pygments_lexer": "ipython3",
   "version": "3.9.7"
  },
  "orig_nbformat": 4
 },
 "nbformat": 4,
 "nbformat_minor": 2
}
