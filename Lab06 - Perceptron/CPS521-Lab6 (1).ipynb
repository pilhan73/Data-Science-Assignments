{
 "cells": [
  {
   "cell_type": "markdown",
   "id": "7d5d2955",
   "metadata": {},
   "source": [
    "# Lab6: \n",
    "\n",
    "Mueeza Ali \n",
    "Polat Tarim \n",
    "Mahad Farah \n",
    "\n",
    "Use Neural network from Python sklearn library for implantation of AND and OR functions.\n",
    "Submit your Jupyter notebook source code with the results."
   ]
  },
  {
   "cell_type": "code",
   "execution_count": 26,
   "id": "8683634f",
   "metadata": {},
   "outputs": [
    {
     "name": "stdout",
     "output_type": "stream",
     "text": [
      "The predicted AND value for [0, 0] is\n",
      "[0]\n",
      "The predicted AND value for [0, 1] is\n",
      "[0]\n",
      "The predicted AND value for [1, 0] is\n",
      "[0]\n",
      "The predicted AND value for [1, 1] is\n",
      "[1]\n"
     ]
    }
   ],
   "source": [
    "import numpy as np \n",
    "from sklearn.linear_model import Perceptron\n",
    "\n",
    "def and_function(list_value = [1,1]):\n",
    "    \"\"\"\n",
    "    Please enter the argument in the form of a list:\n",
    "    [0,0],[0,1],[1,0],[1,1]\n",
    "    \"\"\"\n",
    "    X = np.array([[0,0],[0,1],[1,0],[1,1]])\n",
    "    y = np.array([0,0,0,1])\n",
    "    clf = Perceptron(tol=1e-3, random_state=0)\n",
    "    clf.fit(X,y)\n",
    "    x = np.array([list_value])\n",
    "    print(\"The predicted AND value for {} is\".format(list_value))\n",
    "    print(clf.predict(x))\n",
    "\n",
    "# please add whatever parameter you wish, note the default is [1,1]\n",
    "and_function([0,0])\n",
    "and_function([0,1])\n",
    "and_function([1,0])\n",
    "and_function()"
   ]
  },
  {
   "cell_type": "code",
   "execution_count": 25,
   "id": "07e0adb5",
   "metadata": {},
   "outputs": [
    {
     "name": "stdout",
     "output_type": "stream",
     "text": [
      "The predicted OR value for [0, 0] is\n",
      "[0]\n",
      "The predicted OR value for [0, 1] is\n",
      "[1]\n",
      "The predicted OR value for [1, 0] is\n",
      "[1]\n",
      "The predicted OR value for [1, 1] is\n",
      "[1]\n"
     ]
    }
   ],
   "source": [
    "def or_function(list_value = [0,0]):\n",
    "    \"\"\"\n",
    "    Please enter the argument in the form of a list:\n",
    "    [0,0],[0,1],[1,0],[1,1]\n",
    "    \"\"\"\n",
    "    X = np.array([[0,0],[0,1],[1,0],[1,1]])\n",
    "    y = np.array([0,1,1,1])\n",
    "    clf = Perceptron(tol=1e-3, random_state=0)\n",
    "    clf.fit(X,y)\n",
    "    x = np.array([list_value])\n",
    "    print(\"The predicted OR value for {} is\".format(list_value))\n",
    "    print(clf.predict(x))\n",
    "    \n",
    "    \n",
    "# please add whatever parameter you wish, note the default is [0,0]\n",
    "or_function()\n",
    "or_function([0,1])\n",
    "or_function([1,0])\n",
    "or_function([1,1])"
   ]
  }
 ],
 "metadata": {
  "kernelspec": {
   "display_name": "Python 3 (ipykernel)",
   "language": "python",
   "name": "python3"
  },
  "language_info": {
   "codemirror_mode": {
    "name": "ipython",
    "version": 3
   },
   "file_extension": ".py",
   "mimetype": "text/x-python",
   "name": "python",
   "nbconvert_exporter": "python",
   "pygments_lexer": "ipython3",
   "version": "3.9.7"
  }
 },
 "nbformat": 4,
 "nbformat_minor": 5
}
