{
 "cells": [
  {
   "cell_type": "markdown",
   "id": "57a3f4bd",
   "metadata": {},
   "source": [
    "Lab 7: "
   ]
  },
  {
   "cell_type": "markdown",
   "id": "4451b88b",
   "metadata": {},
   "source": [
    "1. Please answer these questions which are related to SVM. Refer the lecture notes titled \n",
    "“Support Vector Machine” and “Perceptron” before start the assignment.\n",
    "\n",
    "1.1 In SVM what is the meaning of margin? Which are the equations of the two margin hyperplans H+ and H- ? (1 Mark)\n",
    "\n",
    "The margin describes the ditance from the hyperplane (line) and the closest datapoints. It can also be described as the distance between H+ and H-. Simply put it is \"the shortest distance between the observations and the threshold\". \n",
    "\n",
    "The equations for the hyperplans H+ and H- are as follows: \n",
    "H+: w.x + b = 1\n",
    "H-: w.x + b = -1\n",
    "\n",
    "Note w.x == w^(T)x\n",
    "\n",
    "\n",
    "1.2 Consider the three linearly separable two-dimensional input vectors in the figure. Find the linear SVM that optimally separates the classes by maximizing the margin. (1 Mark)\n"
   ]
  },
  {
   "cell_type": "code",
   "execution_count": 6,
   "id": "9f85f01f",
   "metadata": {
    "scrolled": true
   },
   "outputs": [
    {
     "data": {
      "image/png": "[encoded data removed]",
      "text/plain": [
       "<Figure size 432x288 with 1 Axes>"
      ]
     },
     "metadata": {
      "needs_background": "light"
     },
     "output_type": "display_data"
    },
    {
     "name": "stdout",
     "output_type": "stream",
     "text": [
      "y = -x + 2\n"
     ]
    }
   ],
   "source": [
    "import numpy as np\n",
    "from sklearn import svm\n",
    "import matplotlib.pyplot as plt\n",
    "\n",
    "X = np.array([[.5, 1], [1,.5], [1, 1.5]])\n",
    "y = np.array([1, 1, 0])\n",
    "\n",
    "clf = svm.SVC(kernel='linear', C=1000)\n",
    "clf.fit(X, y)\n",
    "\n",
    "plt.scatter(X[:, 0], X[:, 1], c=y, s=30, cmap=plt.cm.Paired)\n",
    "\n",
    "ax = plt.gca()\n",
    "xlim = ax.get_xlim()\n",
    "ylim = ax.get_ylim()\n",
    "\n",
    "xx = np.arange(0, 4, 0.5)\n",
    "yy = np.arange(0, 4, 0.5)\n",
    "\n",
    "YY, XX = np.meshgrid(yy, xx)\n",
    "xy = np.vstack([XX.ravel(), YY.ravel()]).T\n",
    "Z = clf.decision_function(xy).reshape(XX.shape)\n",
    "\n",
    "ax.contour(XX, YY, Z, colors='k', levels=[-1, 0, 1], linestyles=['--', '-', '--'])\n",
    "\n",
    "plt.show()\n",
    "print(\"y = -x + 2\")"
   ]
  },
  {
   "cell_type": "markdown",
   "id": "2e25742e",
   "metadata": {},
   "source": [
    "1.3 What is a kernel function? (1 Mark)\n",
    "\n",
    "The kernel function is a method by which the training data is mapped to a higher dimension. This will allow for linear seperation at higher dimensions. In short allows us to map to a new \"feature space\". The kernel function is a \"transformation function\" from the input space to the \"feature spaces\".\n",
    "\n"
   ]
  },
  {
   "cell_type": "markdown",
   "id": "75a267d0",
   "metadata": {},
   "source": [
    "2. Compare Neural Network and SVM in Classification of heart disease data set in Python \n",
    "language. You can use the sklearn Python library to implement both Neural Networks and SVM.\n",
    "For SVM, build the model by changing the different kernels such as Linear, Gaussian and Sigmoid \n",
    "and note down the model accuracy. Similarly, use Stochastic Gradient Descent and Adam Gradient \n",
    "Descent to build the multi-layer Neural Network and note down the model accuracy for each. \n",
    "Finally, tell us which model performs better and why?"
   ]
  },
  {
   "cell_type": "code",
   "execution_count": 10,
   "id": "bc136ed2",
   "metadata": {},
   "outputs": [
    {
     "name": "stdout",
     "output_type": "stream",
     "text": [
      "Support Vector Classifications\n",
      "Linear Kernel: 0.5888888888888889\n",
      "Gaussian RBF: 0.5777777777777777\n",
      "Sigmoid: 0.5777777777777777\n",
      "-------------------------------------------------------------------\n",
      "Multi-Layer Neural Networks\n",
      "MLP SGD: 0.16666666666666666\n",
      "MLP Adam: 0.5333333333333333\n"
     ]
    }
   ],
   "source": [
    "# Comparison of Network and SVM\n",
    "from sklearn.svm import SVC\n",
    "import numpy as np\n",
    "import pandas as pd\n",
    "from sklearn.neural_network import MLPClassifier as MLP\n",
    "from sklearn.model_selection import train_test_split as TTT\n",
    "\n",
    "df = pd.read_csv('heart-disease-dataset1.csv')\n",
    "df = df.replace('?', np.nan)\n",
    "df = df.dropna()\n",
    "\n",
    "X=df.iloc[:,:-1]\n",
    "y = df.iloc[:,-1]\n",
    "\n",
    "X_train, X_test, y_train, y_test = TTT(X, y, test_size=0.3, random_state=100)\n",
    "\n",
    "print('Support Vector Classifications')\n",
    "\n",
    "clf = SVC(kernel='linear')\n",
    "clf.fit(X_train, y_train)\n",
    "print('Linear Kernel:', clf.score(X_test, y_test))\n",
    "\n",
    "clf = SVC(kernel='rbf')\n",
    "clf.fit(X_train, y_train)\n",
    "print('Gaussian RBF:', clf.score(X_test, y_test))\n",
    "\n",
    "clf = SVC(kernel='sigmoid')\n",
    "clf.fit(X_train, y_train)\n",
    "print('Sigmoid:', clf.score(X_test, y_test))\n",
    "\n",
    "print('-------------------------------------------------------------------')\n",
    "\n",
    "print('Multi-Layer Neural Networks')\n",
    "clf = MLP(solver='sgd', random_state=1, max_iter=1000)\n",
    "clf.fit(X_train, y_train)\n",
    "print('MLP SGD:', clf.score(X_test, y_test))\n",
    "\n",
    "clf = MLP(solver='adam', random_state=1, max_iter=1000)\n",
    "clf.fit(X_train, y_train)\n",
    "print('MLP Adam:', clf.score(X_test, y_test))\n"
   ]
  },
  {
   "cell_type": "code",
   "execution_count": null,
   "id": "c39215cb",
   "metadata": {},
   "outputs": [],
   "source": []
  }
 ],
 "metadata": {
  "kernelspec": {
   "display_name": "Python 3 (ipykernel)",
   "language": "python",
   "name": "python3"
  },
  "language_info": {
   "codemirror_mode": {
    "name": "ipython",
    "version": 3
   },
   "file_extension": ".py",
   "mimetype": "text/x-python",
   "name": "python",
   "nbconvert_exporter": "python",
   "pygments_lexer": "ipython3",
   "version": "3.9.7"
  }
 },
 "nbformat": 4,
 "nbformat_minor": 5
}
